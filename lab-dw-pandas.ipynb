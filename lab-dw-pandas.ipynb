{
 "cells": [
  {
   "cell_type": "markdown",
   "id": "25d7736c-ba17-4aff-b6bb-66eba20fbf4e",
   "metadata": {},
   "source": [
    "# Lab | Pandas"
   ]
  },
  {
   "cell_type": "markdown",
   "id": "d1973e9e-8be6-4039-b70e-d73ee0d94c99",
   "metadata": {},
   "source": [
    "In this lab, we will be working with the customer data from an insurance company, which can be found in the CSV file located at the following link: https://raw.githubusercontent.com/data-bootcamp-v4/data/main/file1.csv\n",
    "\n",
    "The data includes information such as customer ID, state, gender, education, income, and other variables that can be used to perform various analyses.\n",
    "\n",
    "Throughout the lab, we will be using the pandas library in Python to manipulate and analyze the data. Pandas is a powerful library that provides various data manipulation and analysis tools, including the ability to load and manipulate data from a variety of sources, including CSV files."
   ]
  },
  {
   "cell_type": "markdown",
   "id": "8045146f-f4f7-44d9-8cd9-130d6400c73a",
   "metadata": {},
   "source": [
    "### Data Description\n",
    "\n",
    "- Customer - Customer ID\n",
    "\n",
    "- ST - State where customers live\n",
    "\n",
    "- Gender - Gender of the customer\n",
    "\n",
    "- Education - Background education of customers \n",
    "\n",
    "- Customer Lifetime Value - Customer lifetime value(CLV) is the total revenue the client will derive from their entire relationship with a customer. In other words, is the predicted or calculated value of a customer over their entire duration as a policyholder with the insurance company. It is an estimation of the net profit that the insurance company expects to generate from a customer throughout their relationship with the company. Customer Lifetime Value takes into account factors such as the duration of the customer's policy, premium payments, claim history, renewal likelihood, and potential additional services or products the customer may purchase. It helps insurers assess the long-term profitability and value associated with retaining a particular customer.\n",
    "\n",
    "- Income - Customers income\n",
    "\n",
    "- Monthly Premium Auto - Amount of money the customer pays on a monthly basis as a premium for their auto insurance coverage. It represents the recurring cost that the insured person must pay to maintain their insurance policy and receive coverage for potential damages, accidents, or other covered events related to their vehicle.\n",
    "\n",
    "- Number of Open Complaints - Number of complaints the customer opened\n",
    "\n",
    "- Policy Type - There are three type of policies in car insurance (Corporate Auto, Personal Auto, and Special Auto)\n",
    "\n",
    "- Vehicle Class - Type of vehicle classes that customers have Two-Door Car, Four-Door Car SUV, Luxury SUV, Sports Car, and Luxury Car\n",
    "\n",
    "- Total Claim Amount - the sum of all claims made by the customer. It represents the total monetary value of all approved claims for incidents such as accidents, theft, vandalism, or other covered events.\n"
   ]
  },
  {
   "cell_type": "markdown",
   "id": "3a72419b-20fc-4905-817a-8c83abc59de6",
   "metadata": {},
   "source": [
    "External Resources: https://towardsdatascience.com/filtering-data-frames-in-pandas-b570b1f834b9"
   ]
  },
  {
   "cell_type": "markdown",
   "id": "8f8ece17-e919-4e23-96c0-c7c59778436a",
   "metadata": {},
   "source": [
    "## Challenge 1: Understanding the data\n",
    "\n",
    "In this challenge, you will use pandas to explore a given dataset. Your task is to gain a deep understanding of the data by analyzing its characteristics, dimensions, and statistical properties."
   ]
  },
  {
   "cell_type": "markdown",
   "id": "91437bd5-59a6-49c0-8150-ef0e6e6eb253",
   "metadata": {},
   "source": [
    "- Identify the dimensions of the dataset by determining the number of rows and columns it contains.\n",
    "- Determine the data types of each column and evaluate whether they are appropriate for the nature of the variable. You should also provide suggestions for fixing any incorrect data types.\n",
    "- Identify the number of unique values for each column and determine which columns appear to be categorical. You should also describe the unique values of each categorical column and the range of values for numerical columns, and give your insights.\n",
    "- Compute summary statistics such as mean, median, mode, standard deviation, and quartiles to understand the central tendency and distribution of the data for numerical columns. You should also provide your conclusions based on these summary statistics.\n",
    "- Compute summary statistics for categorical columns and providing your conclusions based on these statistics."
   ]
  },
  {
   "cell_type": "code",
   "execution_count": 1,
   "id": "dd4e8cd8-a6f6-486c-a5c4-1745b0c035f4",
   "metadata": {},
   "outputs": [],
   "source": [
    "# Your code here\n",
    "import pandas as pd\n",
    "import numpy as np\n"
   ]
  },
  {
   "cell_type": "code",
   "execution_count": 2,
   "id": "0cbd80f6-a67b-420d-9213-50f45e2a8f4e",
   "metadata": {},
   "outputs": [],
   "source": [
    "user_content = pd.read_csv(\"https://raw.githubusercontent.com/data-bootcamp-v4/data/main/file1.csv\")"
   ]
  },
  {
   "cell_type": "code",
   "execution_count": 4,
   "id": "74660f29-ef5b-4c88-9af4-140459dcdf80",
   "metadata": {},
   "outputs": [
    {
     "data": {
      "text/plain": [
       "(4008, 11)"
      ]
     },
     "execution_count": 4,
     "metadata": {},
     "output_type": "execute_result"
    }
   ],
   "source": [
    "# Identify the dimensions of the dataset by determining the number of rows and columns it contains. \n",
    "user_content.shape"
   ]
  },
  {
   "cell_type": "markdown",
   "id": "0f0930af-59fc-44ad-aeef-b80519b545a6",
   "metadata": {},
   "source": [
    "- Identify the dimensions of the dataset by determining the number of rows and columns it contains.\n",
    "- Determine the data types of each column and evaluate whether they are appropriate for the nature of the variable. You should also provide suggestions for fixing any incorrect data types.\n",
    "- Identify the number of unique values for each column and determine which columns appear to be categorical. You should also describe the unique values of each categorical column and the range of values for numerical columns, and give your insights.\n",
    "- Compute summary statistics such as mean, median, mode, standard deviation, and quartiles to understand the central tendency and distribution of the data for numerical columns. You should also provide your conclusions based on these summary statistics.\n",
    "- Compute summary statistics for categorical columns and providing your conclusions based on these statistics."
   ]
  },
  {
   "cell_type": "code",
   "execution_count": 5,
   "id": "f5c628d8-ca3f-4d9c-982a-3771d83cf94c",
   "metadata": {
    "scrolled": true
   },
   "outputs": [
    {
     "name": "stdout",
     "output_type": "stream",
     "text": [
      "<class 'pandas.core.frame.DataFrame'>\n",
      "RangeIndex: 4008 entries, 0 to 4007\n",
      "Data columns (total 11 columns):\n",
      " #   Column                     Non-Null Count  Dtype  \n",
      "---  ------                     --------------  -----  \n",
      " 0   Customer                   1071 non-null   object \n",
      " 1   ST                         1071 non-null   object \n",
      " 2   GENDER                     954 non-null    object \n",
      " 3   Education                  1071 non-null   object \n",
      " 4   Customer Lifetime Value    1068 non-null   object \n",
      " 5   Income                     1071 non-null   float64\n",
      " 6   Monthly Premium Auto       1071 non-null   float64\n",
      " 7   Number of Open Complaints  1071 non-null   object \n",
      " 8   Policy Type                1071 non-null   object \n",
      " 9   Vehicle Class              1071 non-null   object \n",
      " 10  Total Claim Amount         1071 non-null   float64\n",
      "dtypes: float64(3), object(8)\n",
      "memory usage: 344.6+ KB\n"
     ]
    }
   ],
   "source": [
    "# Identify the dimensions of the dataset by determining the number of rows and columns it contains.\n",
    "user_content.info()"
   ]
  },
  {
   "cell_type": "code",
   "execution_count": 71,
   "id": "f21db2c6-f756-4f73-90de-48fff1ab884e",
   "metadata": {},
   "outputs": [],
   "source": [
    "df = user_content.copy()"
   ]
  },
  {
   "cell_type": "code",
   "execution_count": 67,
   "id": "86eada0c-3cea-4539-8777-ee78bec90e88",
   "metadata": {},
   "outputs": [
    {
     "data": {
      "text/plain": [
       "array(['1/0/00', '1/2/00', '1/1/00', '1/3/00', '1/5/00', '1/4/00', nan],\n",
       "      dtype=object)"
      ]
     },
     "execution_count": 67,
     "metadata": {},
     "output_type": "execute_result"
    }
   ],
   "source": [
    "df[\"Number of Open Complaints\"].unique()"
   ]
  },
  {
   "cell_type": "code",
   "execution_count": 72,
   "id": "a93bb1bb-e906-40ca-8c24-db2d04f37a3d",
   "metadata": {},
   "outputs": [],
   "source": [
    "# asignar las modificationes xx =\n",
    "#df[\"Number of Open Complaints\"] = df[\"Number of Open Complaints\"].str.replace('/00','') \n",
    "# la siguiente linea se puede juntar con la de arriba pero se debe decidir cual conservar\n",
    "#df[\"Number of Open Complaints\"] = df[\"Number of Open Complaints\"].str.replace('/','')\n",
    "\n",
    "# la siguiente linea se puede juntar con la de arriba pero se debe decidir cual conservar\n",
    "df[\"Number of Open Complaints\"] = df[\"Number of Open Complaints\"].str.replace('/00','').str.replace('/','')\n",
    " \n",
    "#df[\"Number of Open Complaints\"]\n",
    "df[\"Number of Open Complaints\"] = df[\"Number of Open Complaints\"].astype(float)\n",
    "\n",
    "#importante no ejecutar de nuevo, porque ya el cambio de object a float se ha hecho, por esta razon sale error. \n",
    "# #Para borrar el error, ejecutar desde el comienzo."
   ]
  },
  {
   "cell_type": "code",
   "execution_count": 69,
   "id": "c60261a4-a2bc-47cd-812f-6f46a9057979",
   "metadata": {},
   "outputs": [
    {
     "name": "stdout",
     "output_type": "stream",
     "text": [
      "<class 'pandas.core.frame.DataFrame'>\n",
      "RangeIndex: 4008 entries, 0 to 4007\n",
      "Data columns (total 11 columns):\n",
      " #   Column                     Non-Null Count  Dtype  \n",
      "---  ------                     --------------  -----  \n",
      " 0   Customer                   1071 non-null   object \n",
      " 1   ST                         1071 non-null   object \n",
      " 2   GENDER                     954 non-null    object \n",
      " 3   Education                  1071 non-null   object \n",
      " 4   Customer Lifetime Value    1068 non-null   object \n",
      " 5   Income                     1071 non-null   float64\n",
      " 6   Monthly Premium Auto       1071 non-null   float64\n",
      " 7   Number of Open Complaints  1071 non-null   float64\n",
      " 8   Policy Type                1071 non-null   object \n",
      " 9   Vehicle Class              1071 non-null   object \n",
      " 10  Total Claim Amount         1071 non-null   float64\n",
      "dtypes: float64(4), object(7)\n",
      "memory usage: 344.6+ KB\n"
     ]
    }
   ],
   "source": [
    "df.info()"
   ]
  },
  {
   "cell_type": "code",
   "execution_count": 73,
   "id": "493f38bd-3e9a-495a-b372-4c5714e914dc",
   "metadata": {},
   "outputs": [],
   "source": [
    "df[\"Customer Lifetime Value\"] = df[\"Customer Lifetime Value\"].str.replace('%','')"
   ]
  },
  {
   "cell_type": "code",
   "execution_count": 74,
   "id": "e6847955-282f-4e79-8a03-3e990ad78338",
   "metadata": {},
   "outputs": [],
   "source": [
    "df[\"Customer Lifetime Value\"] = df[\"Customer Lifetime Value\"].astype(float)"
   ]
  },
  {
   "cell_type": "code",
   "execution_count": 75,
   "id": "85205593-de85-446f-98e5-7d278bdee39c",
   "metadata": {},
   "outputs": [
    {
     "data": {
      "text/plain": [
       "array([       nan,  697953.59, 1288743.17, ..., 2031499.76,  323912.47,\n",
       "        899704.02])"
      ]
     },
     "execution_count": 75,
     "metadata": {},
     "output_type": "execute_result"
    }
   ],
   "source": [
    "df[\"Customer Lifetime Value\"].unique()"
   ]
  },
  {
   "cell_type": "code",
   "execution_count": 76,
   "id": "265420d3-e0e6-4f29-a72e-636c1849be73",
   "metadata": {},
   "outputs": [],
   "source": [
    "# df_redondeado = df.copy()\n",
    "# df_redondeado['Valores'] = df_redondeado['Valores'].round(2)\n",
    "\n",
    "df[\"Total Claim Amount\"] = df[\"Total Claim Amount\"].round(2)"
   ]
  },
  {
   "cell_type": "code",
   "execution_count": 101,
   "id": "8e5a8031-4c02-4694-96fa-70535a8eef1e",
   "metadata": {},
   "outputs": [
    {
     "data": {
      "text/html": [
       "<div>\n",
       "<style scoped>\n",
       "    .dataframe tbody tr th:only-of-type {\n",
       "        vertical-align: middle;\n",
       "    }\n",
       "\n",
       "    .dataframe tbody tr th {\n",
       "        vertical-align: top;\n",
       "    }\n",
       "\n",
       "    .dataframe thead th {\n",
       "        text-align: right;\n",
       "    }\n",
       "</style>\n",
       "<table border=\"1\" class=\"dataframe\">\n",
       "  <thead>\n",
       "    <tr style=\"text-align: right;\">\n",
       "      <th></th>\n",
       "      <th>Customer</th>\n",
       "      <th>ST</th>\n",
       "      <th>GENDER</th>\n",
       "      <th>Education</th>\n",
       "      <th>Customer Lifetime Value</th>\n",
       "      <th>Income</th>\n",
       "      <th>Monthly Premium Auto</th>\n",
       "      <th>Number of Open Complaints</th>\n",
       "      <th>Policy Type</th>\n",
       "      <th>Vehicle Class</th>\n",
       "      <th>Total Claim Amount</th>\n",
       "    </tr>\n",
       "  </thead>\n",
       "  <tbody>\n",
       "    <tr>\n",
       "      <th>0</th>\n",
       "      <td>RB50392</td>\n",
       "      <td>Washington</td>\n",
       "      <td>NaN</td>\n",
       "      <td>Master</td>\n",
       "      <td>NaN</td>\n",
       "      <td>0.0</td>\n",
       "      <td>1000.0</td>\n",
       "      <td>10.0</td>\n",
       "      <td>Personal Auto</td>\n",
       "      <td>Four-Door Car</td>\n",
       "      <td>2.70</td>\n",
       "    </tr>\n",
       "    <tr>\n",
       "      <th>1</th>\n",
       "      <td>QZ44356</td>\n",
       "      <td>Arizona</td>\n",
       "      <td>F</td>\n",
       "      <td>Bachelor</td>\n",
       "      <td>697953.59</td>\n",
       "      <td>0.0</td>\n",
       "      <td>94.0</td>\n",
       "      <td>10.0</td>\n",
       "      <td>Personal Auto</td>\n",
       "      <td>Four-Door Car</td>\n",
       "      <td>1131.46</td>\n",
       "    </tr>\n",
       "    <tr>\n",
       "      <th>2</th>\n",
       "      <td>AI49188</td>\n",
       "      <td>Nevada</td>\n",
       "      <td>F</td>\n",
       "      <td>Bachelor</td>\n",
       "      <td>1288743.17</td>\n",
       "      <td>48767.0</td>\n",
       "      <td>108.0</td>\n",
       "      <td>10.0</td>\n",
       "      <td>Personal Auto</td>\n",
       "      <td>Two-Door Car</td>\n",
       "      <td>566.47</td>\n",
       "    </tr>\n",
       "    <tr>\n",
       "      <th>3</th>\n",
       "      <td>WW63253</td>\n",
       "      <td>California</td>\n",
       "      <td>M</td>\n",
       "      <td>Bachelor</td>\n",
       "      <td>764586.18</td>\n",
       "      <td>0.0</td>\n",
       "      <td>106.0</td>\n",
       "      <td>10.0</td>\n",
       "      <td>Corporate Auto</td>\n",
       "      <td>SUV</td>\n",
       "      <td>529.88</td>\n",
       "    </tr>\n",
       "    <tr>\n",
       "      <th>4</th>\n",
       "      <td>GA49547</td>\n",
       "      <td>Washington</td>\n",
       "      <td>M</td>\n",
       "      <td>High School or Below</td>\n",
       "      <td>536307.65</td>\n",
       "      <td>36357.0</td>\n",
       "      <td>68.0</td>\n",
       "      <td>10.0</td>\n",
       "      <td>Personal Auto</td>\n",
       "      <td>Four-Door Car</td>\n",
       "      <td>17.27</td>\n",
       "    </tr>\n",
       "    <tr>\n",
       "      <th>5</th>\n",
       "      <td>OC83172</td>\n",
       "      <td>Oregon</td>\n",
       "      <td>F</td>\n",
       "      <td>Bachelor</td>\n",
       "      <td>825629.78</td>\n",
       "      <td>62902.0</td>\n",
       "      <td>69.0</td>\n",
       "      <td>10.0</td>\n",
       "      <td>Personal Auto</td>\n",
       "      <td>Two-Door Car</td>\n",
       "      <td>159.38</td>\n",
       "    </tr>\n",
       "    <tr>\n",
       "      <th>6</th>\n",
       "      <td>XZ87318</td>\n",
       "      <td>Oregon</td>\n",
       "      <td>F</td>\n",
       "      <td>College</td>\n",
       "      <td>538089.86</td>\n",
       "      <td>55350.0</td>\n",
       "      <td>67.0</td>\n",
       "      <td>10.0</td>\n",
       "      <td>Corporate Auto</td>\n",
       "      <td>Four-Door Car</td>\n",
       "      <td>321.60</td>\n",
       "    </tr>\n",
       "    <tr>\n",
       "      <th>7</th>\n",
       "      <td>CF85061</td>\n",
       "      <td>Arizona</td>\n",
       "      <td>M</td>\n",
       "      <td>Master</td>\n",
       "      <td>721610.03</td>\n",
       "      <td>0.0</td>\n",
       "      <td>101.0</td>\n",
       "      <td>10.0</td>\n",
       "      <td>Corporate Auto</td>\n",
       "      <td>Four-Door Car</td>\n",
       "      <td>363.03</td>\n",
       "    </tr>\n",
       "    <tr>\n",
       "      <th>8</th>\n",
       "      <td>DY87989</td>\n",
       "      <td>Oregon</td>\n",
       "      <td>M</td>\n",
       "      <td>Bachelor</td>\n",
       "      <td>2412750.40</td>\n",
       "      <td>14072.0</td>\n",
       "      <td>71.0</td>\n",
       "      <td>10.0</td>\n",
       "      <td>Corporate Auto</td>\n",
       "      <td>Four-Door Car</td>\n",
       "      <td>511.20</td>\n",
       "    </tr>\n",
       "    <tr>\n",
       "      <th>9</th>\n",
       "      <td>BQ94931</td>\n",
       "      <td>Oregon</td>\n",
       "      <td>F</td>\n",
       "      <td>College</td>\n",
       "      <td>738817.81</td>\n",
       "      <td>28812.0</td>\n",
       "      <td>93.0</td>\n",
       "      <td>10.0</td>\n",
       "      <td>Special Auto</td>\n",
       "      <td>Four-Door Car</td>\n",
       "      <td>425.53</td>\n",
       "    </tr>\n",
       "  </tbody>\n",
       "</table>\n",
       "</div>"
      ],
      "text/plain": [
       "  Customer          ST GENDER             Education  Customer Lifetime Value  \\\n",
       "0  RB50392  Washington    NaN                Master                      NaN   \n",
       "1  QZ44356     Arizona      F              Bachelor                697953.59   \n",
       "2  AI49188      Nevada      F              Bachelor               1288743.17   \n",
       "3  WW63253  California      M              Bachelor                764586.18   \n",
       "4  GA49547  Washington      M  High School or Below                536307.65   \n",
       "5  OC83172      Oregon      F              Bachelor                825629.78   \n",
       "6  XZ87318      Oregon      F               College                538089.86   \n",
       "7  CF85061     Arizona      M                Master                721610.03   \n",
       "8  DY87989      Oregon      M              Bachelor               2412750.40   \n",
       "9  BQ94931      Oregon      F               College                738817.81   \n",
       "\n",
       "    Income  Monthly Premium Auto  Number of Open Complaints     Policy Type  \\\n",
       "0      0.0                1000.0                       10.0   Personal Auto   \n",
       "1      0.0                  94.0                       10.0   Personal Auto   \n",
       "2  48767.0                 108.0                       10.0   Personal Auto   \n",
       "3      0.0                 106.0                       10.0  Corporate Auto   \n",
       "4  36357.0                  68.0                       10.0   Personal Auto   \n",
       "5  62902.0                  69.0                       10.0   Personal Auto   \n",
       "6  55350.0                  67.0                       10.0  Corporate Auto   \n",
       "7      0.0                 101.0                       10.0  Corporate Auto   \n",
       "8  14072.0                  71.0                       10.0  Corporate Auto   \n",
       "9  28812.0                  93.0                       10.0    Special Auto   \n",
       "\n",
       "   Vehicle Class  Total Claim Amount  \n",
       "0  Four-Door Car                2.70  \n",
       "1  Four-Door Car             1131.46  \n",
       "2   Two-Door Car              566.47  \n",
       "3            SUV              529.88  \n",
       "4  Four-Door Car               17.27  \n",
       "5   Two-Door Car              159.38  \n",
       "6  Four-Door Car              321.60  \n",
       "7  Four-Door Car              363.03  \n",
       "8  Four-Door Car              511.20  \n",
       "9  Four-Door Car              425.53  "
      ]
     },
     "execution_count": 101,
     "metadata": {},
     "output_type": "execute_result"
    }
   ],
   "source": [
    "df.head(10)"
   ]
  },
  {
   "cell_type": "code",
   "execution_count": 78,
   "id": "520515a2-0dff-4388-972a-b81d39a6a7d4",
   "metadata": {},
   "outputs": [
    {
     "name": "stdout",
     "output_type": "stream",
     "text": [
      "\n",
      "Nombre de valeurs uniques pour chaque colonne\n",
      "Customer                     1071\n",
      "ST                              8\n",
      "GENDER                          5\n",
      "Education                       6\n",
      "Customer Lifetime Value      1027\n",
      "Income                        774\n",
      "Monthly Premium Auto          132\n",
      "Number of Open Complaints       6\n",
      "Policy Type                     3\n",
      "Vehicle Class                   6\n",
      "Total Claim Amount            753\n",
      "dtype: int64\n"
     ]
    }
   ],
   "source": [
    "# Identify the number of unique values for each column and determine which columns appear to be categorical. \n",
    "#You should also describe the unique values of each categorical column and the range of values for numerical columns, and give your insights.\n",
    "\n",
    "unique_values_count = df.nunique()\n",
    "print(\"\\nNombre de valeurs uniques pour chaque colonne\")\n",
    "print(unique_values_count)"
   ]
  },
  {
   "cell_type": "code",
   "execution_count": 80,
   "id": "f0a29ee3-79e9-4826-808f-fc65e9bf7eda",
   "metadata": {},
   "outputs": [
    {
     "name": "stdout",
     "output_type": "stream",
     "text": [
      "\n",
      "Categorical columns:\n",
      "['Customer', 'ST', 'GENDER', 'Education', 'Policy Type', 'Vehicle Class']\n"
     ]
    }
   ],
   "source": [
    "# # determine which columns appear to be categorical.\n",
    "\n",
    "categorical_columns = [col for col in df.columns if df[col].dtype == 'object']\n",
    "print(\"\\nCategorical columns:\")\n",
    "print(categorical_columns)"
   ]
  },
  {
   "cell_type": "code",
   "execution_count": 82,
   "id": "28c22c0a-e5ff-4f4b-b598-03b62717f5c6",
   "metadata": {},
   "outputs": [
    {
     "name": "stdout",
     "output_type": "stream",
     "text": [
      "\n",
      "Unique value on each colume 'Customer':\n",
      "['RB50392' 'QZ44356' 'AI49188' ... 'CW49887' 'MY31220' nan]\n",
      "\n",
      "Unique value on each colume 'ST':\n",
      "['Washington' 'Arizona' 'Nevada' 'California' 'Oregon' 'Cali' 'AZ' 'WA'\n",
      " nan]\n",
      "\n",
      "Unique value on each colume 'GENDER':\n",
      "[nan 'F' 'M' 'Femal' 'Male' 'female']\n",
      "\n",
      "Unique value on each colume 'Education':\n",
      "['Master' 'Bachelor' 'High School or Below' 'College' 'Bachelors' 'Doctor'\n",
      " nan]\n",
      "\n",
      "Unique value on each colume 'Policy Type':\n",
      "['Personal Auto' 'Corporate Auto' 'Special Auto' nan]\n",
      "\n",
      "Unique value on each colume 'Vehicle Class':\n",
      "['Four-Door Car' 'Two-Door Car' 'SUV' 'Luxury SUV' 'Sports Car'\n",
      " 'Luxury Car' nan]\n"
     ]
    }
   ],
   "source": [
    "# # Determine the unique values of each categorical column\n",
    "\n",
    "for col in categorical_columns:\n",
    "    print(\"\\nUnique value on each colume '{}':\".format(col))\n",
    "    print(df[col].unique())"
   ]
  },
  {
   "cell_type": "code",
   "execution_count": 83,
   "id": "be49e495-2afb-43a9-882c-edfb643c4c53",
   "metadata": {},
   "outputs": [
    {
     "name": "stdout",
     "output_type": "stream",
     "text": [
      "\n",
      "Range of values numerical columns'Customer Lifetime Value':\n",
      "Min: 200435.07 Max: 5816655.35\n",
      "\n",
      "Range of values numerical columns'Income':\n",
      "Min: 0.0 Max: 99960.0\n",
      "\n",
      "Range of values numerical columns'Monthly Premium Auto':\n",
      "Min: 61.0 Max: 35354.0\n",
      "\n",
      "Range of values numerical columns'Number of Open Complaints':\n",
      "Min: 10.0 Max: 15.0\n",
      "\n",
      "Range of values numerical columns'Total Claim Amount':\n",
      "Min: 0.38 Max: 2893.24\n"
     ]
    }
   ],
   "source": [
    "# determin the range of values for each numerical columns\n",
    "\n",
    "#[expression for item in iterable if condition].\n",
    "numerical_columns = [col for col in df.columns if df[col].dtype != 'object']\n",
    "for col in numerical_columns:\n",
    "    print(\"\\nRange of values numerical columns'{}':\".format(col))\n",
    "    print(\"Min:\", df[col].min(), \"Max:\", df[col].max())"
   ]
  },
  {
   "cell_type": "code",
   "execution_count": 84,
   "id": "ebbb3a05-6d3f-4063-a18f-7de04c8f3f6f",
   "metadata": {},
   "outputs": [
    {
     "name": "stdout",
     "output_type": "stream",
     "text": [
      "\n",
      "Summary statistics:\n",
      "       Customer Lifetime Value        Income  Monthly Premium Auto  \\\n",
      "count             1.068000e+03   1071.000000           1071.000000   \n",
      "mean              7.936903e+05  39295.701214            193.234360   \n",
      "std               6.434784e+05  30469.427060           1601.190369   \n",
      "min               2.004351e+05      0.000000             61.000000   \n",
      "25%               4.034080e+05  14072.000000             68.000000   \n",
      "50%               5.881742e+05  36234.000000             83.000000   \n",
      "75%               8.962872e+05  64631.000000            109.500000   \n",
      "max               5.816655e+06  99960.000000          35354.000000   \n",
      "\n",
      "       Number of Open Complaints  Total Claim Amount  \n",
      "count                1071.000000         1071.000000  \n",
      "mean                   10.394024          404.986928  \n",
      "std                     0.883769          293.027079  \n",
      "min                    10.000000            0.380000  \n",
      "25%                    10.000000          202.160000  \n",
      "50%                    10.000000          354.730000  \n",
      "75%                    10.000000          532.800000  \n",
      "max                    15.000000         2893.240000  \n"
     ]
    }
   ],
   "source": [
    "# Compute summary statistics such as mean, median, mode, standard deviation, and quartiles to understand the central tendency and distribution of the data for numerical columns. \n",
    "#You should also provide your conclusions based on these summary statistics.\n",
    "\n",
    "summary_stats = df.describe()\n",
    "print(\"\\nSummary statistics:\")\n",
    "print(summary_stats)"
   ]
  },
  {
   "cell_type": "code",
   "execution_count": 85,
   "id": "0eb8a33a-7a5e-461e-b60f-1146fb4790d4",
   "metadata": {},
   "outputs": [
    {
     "name": "stdout",
     "output_type": "stream",
     "text": [
      "\n",
      "Statistics 'Customer Lifetime Value':\n",
      "Median: 588174.235, Mode: 251459.2\n",
      "Quartiles:\n",
      "0.25    403407.9950\n",
      "0.50    588174.2350\n",
      "0.75    896287.1975\n",
      "Name: Customer Lifetime Value, dtype: float64\n",
      "\n",
      "Statistics 'Income':\n",
      "Median: 36234.0, Mode: 0.0\n",
      "Quartiles:\n",
      "0.25    14072.0\n",
      "0.50    36234.0\n",
      "0.75    64631.0\n",
      "Name: Income, dtype: float64\n",
      "\n",
      "Statistics 'Monthly Premium Auto':\n",
      "Median: 83.0, Mode: 65.0\n",
      "Quartiles:\n",
      "0.25     68.0\n",
      "0.50     83.0\n",
      "0.75    109.5\n",
      "Name: Monthly Premium Auto, dtype: float64\n",
      "\n",
      "Statistics 'Number of Open Complaints':\n",
      "Median: 10.0, Mode: 10.0\n",
      "Quartiles:\n",
      "0.25    10.0\n",
      "0.50    10.0\n",
      "0.75    10.0\n",
      "Name: Number of Open Complaints, dtype: float64\n",
      "\n",
      "Statistics 'Total Claim Amount':\n",
      "Median: 354.73, Mode: 321.6\n",
      "Quartiles:\n",
      "0.25    202.16\n",
      "0.50    354.73\n",
      "0.75    532.80\n",
      "Name: Total Claim Amount, dtype: float64\n"
     ]
    }
   ],
   "source": [
    "for col in numerical_columns:\n",
    "    median = df[col].median()\n",
    "    mode = df[col].mode()[0]  # mode could have differents values, take the first one.\n",
    "    quartiles = df[col].quantile([0.25, 0.5, 0.75])\n",
    "    print(\"\\nStatistics '{}':\".format(col))\n",
    "    print(f\"Median: {median}, Mode: {mode}\")\n",
    "    print(\"Quartiles:\")\n",
    "    print(quartiles)"
   ]
  },
  {
   "cell_type": "code",
   "execution_count": null,
   "id": "257aff89-0879-425b-903f-6e76f2a23c44",
   "metadata": {},
   "outputs": [],
   "source": [
    "# sommes errors on data type, object i/o float for exemple. \n"
   ]
  },
  {
   "cell_type": "markdown",
   "id": "4a703890-63db-4944-b7ab-95a4f8185120",
   "metadata": {},
   "source": [
    "## Challenge 2: analyzing the data"
   ]
  },
  {
   "cell_type": "markdown",
   "id": "0776a403-c56a-452f-ac33-5fd4fdb06fc7",
   "metadata": {},
   "source": [
    "### Exercise 1"
   ]
  },
  {
   "cell_type": "markdown",
   "id": "eedbc484-da4d-4f9c-9343-e1d44311a87e",
   "metadata": {},
   "source": [
    "The marketing team wants to know the top 5 less common customer locations. Create a pandas Series object that contains the customer locations and their frequencies, and then retrieve the top 5 less common locations in ascending order."
   ]
  },
  {
   "cell_type": "code",
   "execution_count": 92,
   "id": "2dca5073-4520-4f42-9390-4b92733284ed",
   "metadata": {},
   "outputs": [
    {
     "name": "stdout",
     "output_type": "stream",
     "text": [
      "\n",
      "Customer locations:\n",
      "ST\n",
      "Oregon        320\n",
      "California    211\n",
      "Arizona       186\n",
      "Cali          120\n",
      "Nevada         98\n",
      "Washington     81\n",
      "WA             30\n",
      "AZ             25\n",
      "Name: count, dtype: int64\n"
     ]
    }
   ],
   "source": [
    "# Your code here\n",
    "# Créer une Series contenant les localisations et leurs fréquences\n",
    "location_counts = df['ST'].value_counts()\n",
    "\n",
    "print(\"\\nCustomer locations:\")\n",
    "print(location_counts)"
   ]
  },
  {
   "cell_type": "code",
   "execution_count": 93,
   "id": "c0ad0098-6cc5-45ce-9dae-0047c5ff0adf",
   "metadata": {},
   "outputs": [
    {
     "name": "stdout",
     "output_type": "stream",
     "text": [
      "\n",
      "Top 5 less commom locations:\n",
      "ST\n",
      "AZ             25\n",
      "WA             30\n",
      "Washington     81\n",
      "Nevada         98\n",
      "Cali          120\n",
      "Name: count, dtype: int64\n"
     ]
    }
   ],
   "source": [
    "# retrieve the top 5 less common locations in ascending order.\n",
    "top_5_less_common_locations = location_counts.nsmallest(5).sort_values(ascending=True)\n",
    "\n",
    "print(\"\\nTop 5 less commom locations:\")\n",
    "print(top_5_less_common_locations)"
   ]
  },
  {
   "cell_type": "markdown",
   "id": "0ce80f43-4afa-43c7-a78a-c917444da4e0",
   "metadata": {},
   "source": [
    "### Exercise 2\n",
    "\n",
    "The sales team wants to know the total number of policies sold for each type of policy. Create a pandas Series object that contains the policy types and their total number of policies sold, and then retrieve the policy type with the highest number of policies sold."
   ]
  },
  {
   "cell_type": "markdown",
   "id": "a9f13997-1555-4f98-aca6-970fda1d2c3f",
   "metadata": {},
   "source": [
    "*Hint:*\n",
    "- *Using value_counts() method simplifies this analysis.*\n",
    "- *Futhermore, there is a method that returns the index of the maximum value in a column or row.*\n"
   ]
  },
  {
   "cell_type": "code",
   "execution_count": 96,
   "id": "bcfad6c1-9af2-4b0b-9aa9-0dc5c17473c0",
   "metadata": {},
   "outputs": [
    {
     "name": "stdout",
     "output_type": "stream",
     "text": [
      "\n",
      "Total policy sold for each policy type:\n",
      "Policy Type\n",
      "Personal Auto     780\n",
      "Corporate Auto    234\n",
      "Special Auto       57\n",
      "Name: count, dtype: int64\n"
     ]
    }
   ],
   "source": [
    "# Your code here\n",
    "policy_counts = df['Policy Type'].value_counts()\n",
    "\n",
    "print(\"\\nTotal policy sold for each policy type:\")\n",
    "print(policy_counts)"
   ]
  },
  {
   "cell_type": "code",
   "execution_count": 97,
   "id": "8621b99d-f92d-4971-82bf-73950364dadb",
   "metadata": {},
   "outputs": [
    {
     "name": "stdout",
     "output_type": "stream",
     "text": [
      "\n",
      "Policy sold:\n",
      "Personal Auto\n"
     ]
    }
   ],
   "source": [
    "most_sold_policy = policy_counts.idxmax()\n",
    "\n",
    "print(\"\\nPolicy sold:\")\n",
    "print(most_sold_policy)"
   ]
  },
  {
   "cell_type": "markdown",
   "id": "0b863fd3-bf91-4d5d-86eb-be29ed9f5b70",
   "metadata": {},
   "source": [
    "### Exercise 3\n",
    "\n",
    "The sales team wants to know if customers with Personal Auto have a lower income than those with Corporate Auto. How does the average income compare between the two policy types?"
   ]
  },
  {
   "cell_type": "markdown",
   "id": "b1386d75-2810-4aa1-93e0-9485aa12d552",
   "metadata": {},
   "source": [
    "- Use *loc* to create two dataframes: one containing only Personal Auto policies and one containing only Corporate Auto policies.\n",
    "- Calculate the average income for each policy.\n",
    "- Print the results."
   ]
  },
  {
   "cell_type": "code",
   "execution_count": 98,
   "id": "0c0563cf-6f8b-463d-a321-651a972f82e5",
   "metadata": {},
   "outputs": [
    {
     "name": "stdout",
     "output_type": "stream",
     "text": [
      "\n",
      "Average income personal Auto:\n",
      "38180.69871794872\n",
      "\n",
      "Average income corporate Auto:\n",
      "41390.31196581197\n"
     ]
    }
   ],
   "source": [
    "# Your code here\n",
    "\n",
    "# loc pour filtrer les polices Personal Auto\n",
    "personal_auto = df.loc[df['Policy Type'] == 'Personal Auto']\n",
    "\n",
    "# loc pour filtrer les polices Corporate Auto\n",
    "corporate_auto = df.loc[df['Policy Type'] == 'Corporate Auto']\n",
    "\n",
    "average_income_personal = personal_auto['Income'].mean()\n",
    "average_income_corporate = corporate_auto['Income'].mean()\n",
    "\n",
    "print(\"\\nAverage income personal Auto:\")\n",
    "print(average_income_personal)\n",
    "\n",
    "print(\"\\nAverage income corporate Auto:\")\n",
    "print(average_income_corporate)"
   ]
  },
  {
   "cell_type": "markdown",
   "id": "80b16c27-f4a5-4727-a229-1f88671cf4e2",
   "metadata": {},
   "source": [
    "### Bonus: Exercise 4\n"
   ]
  },
  {
   "cell_type": "markdown",
   "id": "ac584986-299b-475f-ac2e-928c16c3f512",
   "metadata": {},
   "source": [
    "Your goal is to identify customers with a high policy claim amount.\n",
    "\n",
    "Instructions:\n",
    "\n",
    "- Review again the statistics for total claim amount to gain an understanding of the data.\n",
    "- To identify potential areas for improving customer retention and profitability, we want to focus on customers with a high policy claim amount. Consider customers with a high policy claim amount to be those in the top 25% of the total claim amount. Create a pandas DataFrame object that contains information about customers with a policy claim amount greater than the 75th percentile.\n",
    "- Use DataFrame methods to calculate summary statistics about the high policy claim amount data. "
   ]
  },
  {
   "cell_type": "markdown",
   "id": "4e3af5f1-6023-4b05-9c01-d05392daa650",
   "metadata": {},
   "source": [
    "*Note: When analyzing data, we often want to focus on certain groups of values to gain insights. Percentiles are a useful tool to help us define these groups. A percentile is a measure that tells us what percentage of values in a dataset are below a certain value. For example, the 75th percentile represents the value below which 75% of the data falls. Similarly, the 25th percentile represents the value below which 25% of the data falls. When we talk about the top 25%, we are referring to the values that fall above the 75th percentile, which represent the top quarter of the data. On the other hand, when we talk about the bottom 25%, we are referring to the values that fall below the 25th percentile, which represent the bottom quarter of the data. By focusing on these groups, we can identify patterns and trends that may be useful for making decisions and taking action.*\n",
    "\n",
    "*Hint: look for a method that gives you the percentile or quantile 0.75 and 0.25 for a Pandas Series.*"
   ]
  },
  {
   "cell_type": "markdown",
   "id": "2d234634-50bd-41e0-88f7-d5ba684455d1",
   "metadata": {},
   "source": [
    "*Hint 2: check `Boolean selection according to the values of a single column` in https://towardsdatascience.com/filtering-data-frames-in-pandas-b570b1f834b9*"
   ]
  },
  {
   "cell_type": "code",
   "execution_count": null,
   "id": "b731bca6-a760-4860-a27b-a33efa712ce0",
   "metadata": {},
   "outputs": [],
   "source": [
    "# Your code here"
   ]
  }
 ],
 "metadata": {
  "kernelspec": {
   "display_name": "Python 3 (ipykernel)",
   "language": "python",
   "name": "python3"
  },
  "language_info": {
   "codemirror_mode": {
    "name": "ipython",
    "version": 3
   },
   "file_extension": ".py",
   "mimetype": "text/x-python",
   "name": "python",
   "nbconvert_exporter": "python",
   "pygments_lexer": "ipython3",
   "version": "3.12.4"
  }
 },
 "nbformat": 4,
 "nbformat_minor": 5
}
